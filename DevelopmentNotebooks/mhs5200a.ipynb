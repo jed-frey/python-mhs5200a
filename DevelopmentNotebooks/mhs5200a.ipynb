{
 "cells": [
  {
   "cell_type": "code",
   "execution_count": 1,
   "metadata": {
    "collapsed": true
   },
   "outputs": [],
   "source": [
    "import serial"
   ]
  },
  {
   "cell_type": "code",
   "execution_count": 2,
   "metadata": {
    "collapsed": true
   },
   "outputs": [],
   "source": []
  },
  {
   "cell_type": "code",
   "execution_count": 6,
   "metadata": {
    "collapsed": true
   },
   "outputs": [],
   "source": [
    "try:\n",
    "    s.close()\n",
    "except:\n",
    "    pass\n",
    "\n",
    "serialcfg=dict()\n",
    "serialcfg[\"port\"]=\"/dev/ttyUSB2\"\n",
    "serialcfg[\"baudrate\"]=57600\n",
    "serialcfg[\"xonxoff\"]=False\n",
    "serialcfg[\"rtscts\"]=False\n",
    "serialcfg[\"dsrdtr\"]=False\n",
    "serialcfg[\"timeout\"]=1.5\n",
    "\n",
    "s = serial.Serial(**serialcfg)"
   ]
  },
  {
   "cell_type": "code",
   "execution_count": 16,
   "metadata": {},
   "outputs": [
    {
     "data": {
      "text/plain": [
       "6"
      ]
     },
     "execution_count": 16,
     "metadata": {},
     "output_type": "execute_result"
    }
   ],
   "source": [
    "s.write(\":\\r\\n\".encode())\n",
    "s.write(\":r1c\\r\\n\".encode())\n",
    "s.write(\":r2c\\r\\n\".encode())"
   ]
  },
  {
   "cell_type": "code",
   "execution_count": 14,
   "metadata": {},
   "outputs": [
    {
     "data": {
      "text/plain": [
       "b'\\r\\n'"
      ]
     },
     "execution_count": 14,
     "metadata": {},
     "output_type": "execute_result"
    }
   ],
   "source": [
    "s.readline()"
   ]
  },
  {
   "cell_type": "code",
   "execution_count": 15,
   "metadata": {},
   "outputs": [
    {
     "data": {
      "text/plain": [
       "b''"
      ]
     },
     "execution_count": 15,
     "metadata": {},
     "output_type": "execute_result"
    }
   ],
   "source": [
    "s.readline()"
   ]
  },
  {
   "cell_type": "code",
   "execution_count": 10,
   "metadata": {},
   "outputs": [
    {
     "data": {
      "text/plain": [
       "b''"
      ]
     },
     "execution_count": 10,
     "metadata": {},
     "output_type": "execute_result"
    }
   ],
   "source": [
    "s.readline()"
   ]
  },
  {
   "cell_type": "code",
   "execution_count": 19,
   "metadata": {},
   "outputs": [
    {
     "data": {
      "text/plain": [
       "b'\\r\\n'"
      ]
     },
     "execution_count": 19,
     "metadata": {},
     "output_type": "execute_result"
    }
   ],
   "source": [
    "s.write(\":r1c\\r\\n\".encode())\n",
    "s.readline()"
   ]
  },
  {
   "cell_type": "code",
   "execution_count": 22,
   "metadata": {
    "collapsed": true
   },
   "outputs": [],
   "source": [
    "s.close()"
   ]
  },
  {
   "cell_type": "code",
   "execution_count": 2,
   "metadata": {
    "collapsed": true
   },
   "outputs": [],
   "source": [
    "import serial"
   ]
  },
  {
   "cell_type": "code",
   "execution_count": 12,
   "metadata": {
    "collapsed": true
   },
   "outputs": [],
   "source": [
    "class MHS5200A(object):\n",
    "    def __init__(self, port=\"/dev/ttyUSB2\"):\n",
    "        cfg=dict()\n",
    "        cfg[\"port\"]=port\n",
    "        cfg[\"baudrate\"]=57600\n",
    "        cfg[\"xonxoff\"]=False        \n",
    "        cfg[\"timeout\"]=0.5\n",
    "        cfg[\"rtscts\"]=True\n",
    "        cfg[\"dsrdtr\"]=False\n",
    "        self.cfg = cfg\n",
    "        self.serial = serial.Serial(**cfg)\n",
    "        \n",
    "    def send(self, msg=\"\", return_line = False):\n",
    "        self.serial.write((msg+\"\\r\\n\").encode())\n",
    "        if return_line:\n",
    "            return self.serial.readline()\n",
    "        \n",
    "    def get(self, )\n",
    "    \n",
    "        \n",
    "    def init(self):\n",
    "        self.send(\":\")\n",
    "        self.send(\":r1c\")\n",
    "        self.send(\":r2c\")"
   ]
  },
  {
   "cell_type": "code",
   "execution_count": 23,
   "metadata": {},
   "outputs": [],
   "source": [
    "sg = MHS5200A()\n",
    "sg.init()\n",
    "s = sg.serial"
   ]
  },
  {
   "cell_type": "code",
   "execution_count": null,
   "metadata": {
    "collapsed": true
   },
   "outputs": [],
   "source": []
  },
  {
   "cell_type": "code",
   "execution_count": null,
   "metadata": {
    "collapsed": true
   },
   "outputs": [],
   "source": []
  },
  {
   "cell_type": "code",
   "execution_count": 28,
   "metadata": {},
   "outputs": [
    {
     "data": {
      "text/plain": [
       "b''"
      ]
     },
     "execution_count": 28,
     "metadata": {},
     "output_type": "execute_result"
    }
   ],
   "source": [
    "s.readline()"
   ]
  },
  {
   "cell_type": "code",
   "execution_count": 30,
   "metadata": {},
   "outputs": [
    {
     "data": {
      "text/plain": [
       "b':r1f0000000500\\r\\n'"
      ]
     },
     "execution_count": 30,
     "metadata": {},
     "output_type": "execute_result"
    }
   ],
   "source": [
    "sg.send(\":r1f\", return_line=True)"
   ]
  },
  {
   "cell_type": "markdown",
   "metadata": {},
   "source": [
    "Frequency!"
   ]
  },
  {
   "cell_type": "code",
   "execution_count": 31,
   "metadata": {},
   "outputs": [
    {
     "data": {
      "text/plain": [
       "b':r1w00\\r\\n'"
      ]
     },
     "execution_count": 31,
     "metadata": {},
     "output_type": "execute_result"
    }
   ],
   "source": [
    "sg.send(\":r1w\", return_line=True)"
   ]
  },
  {
   "cell_type": "markdown",
   "metadata": {},
   "source": [
    "\n",
    "Read wave type\n",
    "NN=00-04 as  above but returns 32-47 for arb0...15\n"
   ]
  },
  {
   "cell_type": "code",
   "execution_count": 34,
   "metadata": {
    "collapsed": true
   },
   "outputs": [],
   "source": [
    "cmd = dict()\n",
    "cmd[\"frequency\"]=\"f\"\n",
    "cmd[\"wave\"]=\"w\"\n",
    "cmd[\"duty_cycle\"]=\"d\"\n",
    "cmd[\"offset\"]=\"o\"\n",
    "cmd[\"phase\"]=\"p\"\n",
    "cmd[\"atten\"]=\"y\"\n",
    "cmd[\"amplitude\"]=\"a\"\n",
    "cmd[\"on\"]=\"b\""
   ]
  },
  {
   "cell_type": "code",
   "execution_count": 35,
   "metadata": {
    "collapsed": true
   },
   "outputs": [],
   "source": [
    "def getter_gen(parameter):\n",
    "    def getter_fcn(self):\n",
    "        pass\n",
    "    \n",
    "    \n",
    "    return getter_fcn\n",
    "    "
   ]
  },
  {
   "cell_type": "code",
   "execution_count": null,
   "metadata": {
    "collapsed": true
   },
   "outputs": [],
   "source": [
    "def setter_gen(parameter):\n",
    "    pass"
   ]
  },
  {
   "cell_type": "code",
   "execution_count": 21,
   "metadata": {
    "collapsed": true
   },
   "outputs": [],
   "source": [
    "s.close()setattr(cls,\n",
    "                prop_name.lower(),\n",
    "                property(getter_gen(prop_name),\n",
    "                         setter_gen(prop_name)))"
   ]
  },
  {
   "cell_type": "code",
   "execution_count": 37,
   "metadata": {
    "collapsed": true
   },
   "outputs": [],
   "source": [
    "class Channel(object):\n",
    "    def __init__(self, num):\n",
    "        self.num = num\n",
    "        \n",
    "    def __str__(self):\n",
    "        return \"{}\".format(self.num)\n",
    "    \n",
    "    def __repr__(self):\n",
    "        return \"Channel<{}>\".format(self.num)\n",
    "    \n",
    "    @property\n",
    "    def frequency(self)\n",
    "    "
   ]
  },
  {
   "cell_type": "code",
   "execution_count": 38,
   "metadata": {
    "collapsed": true
   },
   "outputs": [],
   "source": [
    "chan1 = Channel(1)"
   ]
  },
  {
   "cell_type": "code",
   "execution_count": 39,
   "metadata": {},
   "outputs": [
    {
     "data": {
      "text/plain": [
       "Channel<1>"
      ]
     },
     "execution_count": 39,
     "metadata": {},
     "output_type": "execute_result"
    }
   ],
   "source": [
    "chan1"
   ]
  },
  {
   "cell_type": "code",
   "execution_count": 40,
   "metadata": {
    "collapsed": true
   },
   "outputs": [],
   "source": [
    "s.close()"
   ]
  },
  {
   "cell_type": "code",
   "execution_count": null,
   "metadata": {
    "collapsed": true
   },
   "outputs": [],
   "source": []
  }
 ],
 "metadata": {
  "kernelspec": {
   "display_name": "Python 3",
   "language": "python",
   "name": "python3"
  },
  "language_info": {
   "codemirror_mode": {
    "name": "ipython",
    "version": 3
   },
   "file_extension": ".py",
   "mimetype": "text/x-python",
   "name": "python",
   "nbconvert_exporter": "python",
   "pygments_lexer": "ipython3",
   "version": "3.6.5"
  }
 },
 "nbformat": 4,
 "nbformat_minor": 2
}
